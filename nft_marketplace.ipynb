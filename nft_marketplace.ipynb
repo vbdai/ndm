{
 "cells": [
  {
   "attachments": {},
   "cell_type": "markdown",
   "metadata": {},
   "source": [
    "# NFT-Based Data Marketplace with Digital Watermarking\n",
    "This is the notebook for the (NFT-Based Data Marketplace with Digital Watermarking) accepted for publication in 29TH ACM SIGKDD CONFERENCE ON KNOWLEDGE DISCOVERY AND DATA MINING. The notebook has three parts: The first part is for the watermarking experiments, the second part is related to the blockchain experiments, and the third part is related to the codes for demo. \n",
    "\n",
    "Get the code and unzip it using the following code"
   ]
  },
  {
   "cell_type": "code",
   "execution_count": 1,
   "metadata": {},
   "outputs": [],
   "source": [
    "!wget https://vbdai-notebooks.obs.cn-north-4.myhuaweicloud.com/ndm/code.zip \n",
    "!unzip -qo code.zip"
   ]
  },
  {
   "attachments": {},
   "cell_type": "markdown",
   "metadata": {},
   "source": [
    "## Watermarking codes\n",
    "This part of the code is to reproduce the results in Section 4.2.3: Watermarking Robustness. \n",
    "\n",
    "### prepare data\n",
    "In the paper data from two classes (tench/n01440764 and toilet paper/n15075141) of imagenet validation dataset (can be downloaded from https://image-net.org/download.php) are used. You can use your own data as well by setting --data_dir. Add \"class0_\" to the image names in n01440764 and \"class1_\" to image names in n15075141 (e.g., class0_ILSVRC2012_val_00000293.jpg) when copying the imagenet subset images into imagenet_sub directory.  \n",
    "\n",
    "### prepare env"
   ]
  },
  {
   "cell_type": "code",
   "execution_count": 2,
   "metadata": {},
   "outputs": [
    {
     "name": "stdout",
     "output_type": "stream",
     "text": [
      "Requirement already satisfied: ipykernel in /home/saeed/miniconda3/envs/nft_kdd/lib/python3.8/site-packages (from -r ./wm_codes/requirements.txt (line 1)) (6.23.1)\n",
      "Requirement already satisfied: torch==1.12.1 in /home/saeed/miniconda3/envs/nft_kdd/lib/python3.8/site-packages (from -r ./wm_codes/requirements.txt (line 2)) (1.12.1)\n",
      "Requirement already satisfied: torchvision==0.13.1 in /home/saeed/miniconda3/envs/nft_kdd/lib/python3.8/site-packages (from -r ./wm_codes/requirements.txt (line 3)) (0.13.1)\n",
      "Requirement already satisfied: torchaudio==0.12.1 in /home/saeed/miniconda3/envs/nft_kdd/lib/python3.8/site-packages (from -r ./wm_codes/requirements.txt (line 4)) (0.12.1)\n",
      "Requirement already satisfied: augly>=0.2.1 in /home/saeed/miniconda3/envs/nft_kdd/lib/python3.8/site-packages (from -r ./wm_codes/requirements.txt (line 5)) (0.2.1)\n",
      "Requirement already satisfied: numpy>=1.21.2 in /home/saeed/miniconda3/envs/nft_kdd/lib/python3.8/site-packages (from -r ./wm_codes/requirements.txt (line 6)) (1.24.3)\n",
      "Requirement already satisfied: pandas==1.5.2 in /home/saeed/miniconda3/envs/nft_kdd/lib/python3.8/site-packages (from -r ./wm_codes/requirements.txt (line 7)) (1.5.2)\n",
      "Requirement already satisfied: pillow>=9.0.1 in /home/saeed/miniconda3/envs/nft_kdd/lib/python3.8/site-packages (from -r ./wm_codes/requirements.txt (line 8)) (9.5.0)\n",
      "Requirement already satisfied: scipy>=1.7.3 in /home/saeed/miniconda3/envs/nft_kdd/lib/python3.8/site-packages (from -r ./wm_codes/requirements.txt (line 9)) (1.10.1)\n",
      "Requirement already satisfied: timm>=0.5.4 in /home/saeed/miniconda3/envs/nft_kdd/lib/python3.8/site-packages (from -r ./wm_codes/requirements.txt (line 10)) (0.9.2)\n",
      "Requirement already satisfied: tqdm>=4.63.0 in /home/saeed/miniconda3/envs/nft_kdd/lib/python3.8/site-packages (from -r ./wm_codes/requirements.txt (line 11)) (4.65.0)\n",
      "Requirement already satisfied: hamming-codec==0.3.5 in /home/saeed/miniconda3/envs/nft_kdd/lib/python3.8/site-packages (from -r ./wm_codes/requirements.txt (line 12)) (0.3.5)\n",
      "Requirement already satisfied: matplotlib==3.6.2 in /home/saeed/miniconda3/envs/nft_kdd/lib/python3.8/site-packages (from -r ./wm_codes/requirements.txt (line 13)) (3.6.2)\n",
      "Requirement already satisfied: typing-extensions in /home/saeed/miniconda3/envs/nft_kdd/lib/python3.8/site-packages (from torch==1.12.1->-r ./wm_codes/requirements.txt (line 2)) (4.6.2)\n",
      "Requirement already satisfied: requests in /home/saeed/miniconda3/envs/nft_kdd/lib/python3.8/site-packages (from torchvision==0.13.1->-r ./wm_codes/requirements.txt (line 3)) (2.31.0)\n",
      "Requirement already satisfied: pytz>=2020.1 in /home/saeed/miniconda3/envs/nft_kdd/lib/python3.8/site-packages (from pandas==1.5.2->-r ./wm_codes/requirements.txt (line 7)) (2023.3)\n",
      "Requirement already satisfied: python-dateutil>=2.8.1 in /home/saeed/miniconda3/envs/nft_kdd/lib/python3.8/site-packages (from pandas==1.5.2->-r ./wm_codes/requirements.txt (line 7)) (2.8.2)\n",
      "Requirement already satisfied: typer in /home/saeed/miniconda3/envs/nft_kdd/lib/python3.8/site-packages (from hamming-codec==0.3.5->-r ./wm_codes/requirements.txt (line 12)) (0.9.0)\n",
      "Requirement already satisfied: cycler>=0.10 in /home/saeed/miniconda3/envs/nft_kdd/lib/python3.8/site-packages (from matplotlib==3.6.2->-r ./wm_codes/requirements.txt (line 13)) (0.11.0)\n",
      "Requirement already satisfied: pyparsing>=2.2.1 in /home/saeed/miniconda3/envs/nft_kdd/lib/python3.8/site-packages (from matplotlib==3.6.2->-r ./wm_codes/requirements.txt (line 13)) (3.0.9)\n",
      "Requirement already satisfied: packaging>=20.0 in /home/saeed/miniconda3/envs/nft_kdd/lib/python3.8/site-packages (from matplotlib==3.6.2->-r ./wm_codes/requirements.txt (line 13)) (23.1)\n",
      "Requirement already satisfied: contourpy>=1.0.1 in /home/saeed/miniconda3/envs/nft_kdd/lib/python3.8/site-packages (from matplotlib==3.6.2->-r ./wm_codes/requirements.txt (line 13)) (1.0.7)\n",
      "Requirement already satisfied: fonttools>=4.22.0 in /home/saeed/miniconda3/envs/nft_kdd/lib/python3.8/site-packages (from matplotlib==3.6.2->-r ./wm_codes/requirements.txt (line 13)) (4.39.4)\n",
      "Requirement already satisfied: kiwisolver>=1.0.1 in /home/saeed/miniconda3/envs/nft_kdd/lib/python3.8/site-packages (from matplotlib==3.6.2->-r ./wm_codes/requirements.txt (line 13)) (1.4.4)\n",
      "Requirement already satisfied: debugpy>=1.6.5 in /home/saeed/miniconda3/envs/nft_kdd/lib/python3.8/site-packages (from ipykernel->-r ./wm_codes/requirements.txt (line 1)) (1.6.7)\n",
      "Requirement already satisfied: tornado>=6.1 in /home/saeed/miniconda3/envs/nft_kdd/lib/python3.8/site-packages (from ipykernel->-r ./wm_codes/requirements.txt (line 1)) (6.3.2)\n",
      "Requirement already satisfied: jupyter-client>=6.1.12 in /home/saeed/miniconda3/envs/nft_kdd/lib/python3.8/site-packages (from ipykernel->-r ./wm_codes/requirements.txt (line 1)) (8.2.0)\n",
      "Requirement already satisfied: nest-asyncio in /home/saeed/miniconda3/envs/nft_kdd/lib/python3.8/site-packages (from ipykernel->-r ./wm_codes/requirements.txt (line 1)) (1.5.6)\n",
      "Requirement already satisfied: jupyter-core!=5.0.*,>=4.12 in /home/saeed/miniconda3/envs/nft_kdd/lib/python3.8/site-packages (from ipykernel->-r ./wm_codes/requirements.txt (line 1)) (5.3.0)\n",
      "Requirement already satisfied: ipython>=7.23.1 in /home/saeed/miniconda3/envs/nft_kdd/lib/python3.8/site-packages (from ipykernel->-r ./wm_codes/requirements.txt (line 1)) (8.12.2)\n",
      "Requirement already satisfied: traitlets>=5.4.0 in /home/saeed/miniconda3/envs/nft_kdd/lib/python3.8/site-packages (from ipykernel->-r ./wm_codes/requirements.txt (line 1)) (5.9.0)\n",
      "Requirement already satisfied: matplotlib-inline>=0.1 in /home/saeed/miniconda3/envs/nft_kdd/lib/python3.8/site-packages (from ipykernel->-r ./wm_codes/requirements.txt (line 1)) (0.1.6)\n",
      "Requirement already satisfied: pyzmq>=20 in /home/saeed/miniconda3/envs/nft_kdd/lib/python3.8/site-packages (from ipykernel->-r ./wm_codes/requirements.txt (line 1)) (25.1.0)\n",
      "Requirement already satisfied: comm>=0.1.1 in /home/saeed/miniconda3/envs/nft_kdd/lib/python3.8/site-packages (from ipykernel->-r ./wm_codes/requirements.txt (line 1)) (0.1.3)\n",
      "Requirement already satisfied: psutil in /home/saeed/miniconda3/envs/nft_kdd/lib/python3.8/site-packages (from ipykernel->-r ./wm_codes/requirements.txt (line 1)) (5.9.5)\n",
      "Requirement already satisfied: nlpaug==1.1.3 in /home/saeed/miniconda3/envs/nft_kdd/lib/python3.8/site-packages (from augly>=0.2.1->-r ./wm_codes/requirements.txt (line 5)) (1.1.3)\n",
      "Requirement already satisfied: vidgear>=0.2.4 in /home/saeed/miniconda3/envs/nft_kdd/lib/python3.8/site-packages (from augly>=0.2.1->-r ./wm_codes/requirements.txt (line 5)) (0.3.0)\n",
      "Requirement already satisfied: regex>=2021.4.4 in /home/saeed/miniconda3/envs/nft_kdd/lib/python3.8/site-packages (from augly>=0.2.1->-r ./wm_codes/requirements.txt (line 5)) (2023.5.5)\n",
      "Requirement already satisfied: python-magic>=0.4.22 in /home/saeed/miniconda3/envs/nft_kdd/lib/python3.8/site-packages (from augly>=0.2.1->-r ./wm_codes/requirements.txt (line 5)) (0.4.27)\n",
      "Requirement already satisfied: iopath>=0.1.8 in /home/saeed/miniconda3/envs/nft_kdd/lib/python3.8/site-packages (from augly>=0.2.1->-r ./wm_codes/requirements.txt (line 5)) (0.1.10)\n",
      "Requirement already satisfied: huggingface-hub in /home/saeed/miniconda3/envs/nft_kdd/lib/python3.8/site-packages (from timm>=0.5.4->-r ./wm_codes/requirements.txt (line 10)) (0.14.1)\n",
      "Requirement already satisfied: safetensors in /home/saeed/miniconda3/envs/nft_kdd/lib/python3.8/site-packages (from timm>=0.5.4->-r ./wm_codes/requirements.txt (line 10)) (0.3.1)\n",
      "Requirement already satisfied: pyyaml in /home/saeed/miniconda3/envs/nft_kdd/lib/python3.8/site-packages (from timm>=0.5.4->-r ./wm_codes/requirements.txt (line 10)) (6.0)\n",
      "Requirement already satisfied: portalocker in /home/saeed/miniconda3/envs/nft_kdd/lib/python3.8/site-packages (from iopath>=0.1.8->augly>=0.2.1->-r ./wm_codes/requirements.txt (line 5)) (2.7.0)\n",
      "Requirement already satisfied: stack-data in /home/saeed/miniconda3/envs/nft_kdd/lib/python3.8/site-packages (from ipython>=7.23.1->ipykernel->-r ./wm_codes/requirements.txt (line 1)) (0.6.2)\n",
      "Requirement already satisfied: backcall in /home/saeed/miniconda3/envs/nft_kdd/lib/python3.8/site-packages (from ipython>=7.23.1->ipykernel->-r ./wm_codes/requirements.txt (line 1)) (0.2.0)\n",
      "Requirement already satisfied: decorator in /home/saeed/miniconda3/envs/nft_kdd/lib/python3.8/site-packages (from ipython>=7.23.1->ipykernel->-r ./wm_codes/requirements.txt (line 1)) (5.1.1)\n",
      "Requirement already satisfied: jedi>=0.16 in /home/saeed/miniconda3/envs/nft_kdd/lib/python3.8/site-packages (from ipython>=7.23.1->ipykernel->-r ./wm_codes/requirements.txt (line 1)) (0.18.2)\n",
      "Requirement already satisfied: pygments>=2.4.0 in /home/saeed/miniconda3/envs/nft_kdd/lib/python3.8/site-packages (from ipython>=7.23.1->ipykernel->-r ./wm_codes/requirements.txt (line 1)) (2.15.1)\n",
      "Requirement already satisfied: prompt-toolkit!=3.0.37,<3.1.0,>=3.0.30 in /home/saeed/miniconda3/envs/nft_kdd/lib/python3.8/site-packages (from ipython>=7.23.1->ipykernel->-r ./wm_codes/requirements.txt (line 1)) (3.0.38)\n",
      "Requirement already satisfied: pexpect>4.3 in /home/saeed/miniconda3/envs/nft_kdd/lib/python3.8/site-packages (from ipython>=7.23.1->ipykernel->-r ./wm_codes/requirements.txt (line 1)) (4.8.0)\n",
      "Requirement already satisfied: pickleshare in /home/saeed/miniconda3/envs/nft_kdd/lib/python3.8/site-packages (from ipython>=7.23.1->ipykernel->-r ./wm_codes/requirements.txt (line 1)) (0.7.5)\n",
      "Requirement already satisfied: importlib-metadata>=4.8.3 in /home/saeed/miniconda3/envs/nft_kdd/lib/python3.8/site-packages (from jupyter-client>=6.1.12->ipykernel->-r ./wm_codes/requirements.txt (line 1)) (6.6.0)\n",
      "Requirement already satisfied: platformdirs>=2.5 in /home/saeed/miniconda3/envs/nft_kdd/lib/python3.8/site-packages (from jupyter-core!=5.0.*,>=4.12->ipykernel->-r ./wm_codes/requirements.txt (line 1)) (3.5.1)\n",
      "Requirement already satisfied: six>=1.5 in /home/saeed/miniconda3/envs/nft_kdd/lib/python3.8/site-packages (from python-dateutil>=2.8.1->pandas==1.5.2->-r ./wm_codes/requirements.txt (line 7)) (1.16.0)\n",
      "Requirement already satisfied: colorlog in /home/saeed/miniconda3/envs/nft_kdd/lib/python3.8/site-packages (from vidgear>=0.2.4->augly>=0.2.1->-r ./wm_codes/requirements.txt (line 5)) (6.7.0)\n",
      "Requirement already satisfied: cython in /home/saeed/miniconda3/envs/nft_kdd/lib/python3.8/site-packages (from vidgear>=0.2.4->augly>=0.2.1->-r ./wm_codes/requirements.txt (line 5)) (0.29.35)\n",
      "Requirement already satisfied: filelock in /home/saeed/miniconda3/envs/nft_kdd/lib/python3.8/site-packages (from huggingface-hub->timm>=0.5.4->-r ./wm_codes/requirements.txt (line 10)) (3.12.0)\n",
      "Requirement already satisfied: fsspec in /home/saeed/miniconda3/envs/nft_kdd/lib/python3.8/site-packages (from huggingface-hub->timm>=0.5.4->-r ./wm_codes/requirements.txt (line 10)) (2023.5.0)\n",
      "Requirement already satisfied: urllib3<3,>=1.21.1 in /home/saeed/miniconda3/envs/nft_kdd/lib/python3.8/site-packages (from requests->torchvision==0.13.1->-r ./wm_codes/requirements.txt (line 3)) (2.0.2)\n",
      "Requirement already satisfied: idna<4,>=2.5 in /home/saeed/miniconda3/envs/nft_kdd/lib/python3.8/site-packages (from requests->torchvision==0.13.1->-r ./wm_codes/requirements.txt (line 3)) (3.4)\n",
      "Requirement already satisfied: charset-normalizer<4,>=2 in /home/saeed/miniconda3/envs/nft_kdd/lib/python3.8/site-packages (from requests->torchvision==0.13.1->-r ./wm_codes/requirements.txt (line 3)) (3.1.0)\n",
      "Requirement already satisfied: certifi>=2017.4.17 in /home/saeed/miniconda3/envs/nft_kdd/lib/python3.8/site-packages (from requests->torchvision==0.13.1->-r ./wm_codes/requirements.txt (line 3)) (2023.5.7)\n",
      "Requirement already satisfied: click<9.0.0,>=7.1.1 in /home/saeed/miniconda3/envs/nft_kdd/lib/python3.8/site-packages (from typer->hamming-codec==0.3.5->-r ./wm_codes/requirements.txt (line 12)) (8.1.3)\n",
      "Requirement already satisfied: zipp>=0.5 in /home/saeed/miniconda3/envs/nft_kdd/lib/python3.8/site-packages (from importlib-metadata>=4.8.3->jupyter-client>=6.1.12->ipykernel->-r ./wm_codes/requirements.txt (line 1)) (3.15.0)\n",
      "Requirement already satisfied: parso<0.9.0,>=0.8.0 in /home/saeed/miniconda3/envs/nft_kdd/lib/python3.8/site-packages (from jedi>=0.16->ipython>=7.23.1->ipykernel->-r ./wm_codes/requirements.txt (line 1)) (0.8.3)\n",
      "Requirement already satisfied: ptyprocess>=0.5 in /home/saeed/miniconda3/envs/nft_kdd/lib/python3.8/site-packages (from pexpect>4.3->ipython>=7.23.1->ipykernel->-r ./wm_codes/requirements.txt (line 1)) (0.7.0)\n",
      "Requirement already satisfied: wcwidth in /home/saeed/miniconda3/envs/nft_kdd/lib/python3.8/site-packages (from prompt-toolkit!=3.0.37,<3.1.0,>=3.0.30->ipython>=7.23.1->ipykernel->-r ./wm_codes/requirements.txt (line 1)) (0.2.6)\n",
      "Requirement already satisfied: executing>=1.2.0 in /home/saeed/miniconda3/envs/nft_kdd/lib/python3.8/site-packages (from stack-data->ipython>=7.23.1->ipykernel->-r ./wm_codes/requirements.txt (line 1)) (1.2.0)\n",
      "Requirement already satisfied: pure-eval in /home/saeed/miniconda3/envs/nft_kdd/lib/python3.8/site-packages (from stack-data->ipython>=7.23.1->ipykernel->-r ./wm_codes/requirements.txt (line 1)) (0.2.2)\n",
      "Requirement already satisfied: asttokens>=2.1.0 in /home/saeed/miniconda3/envs/nft_kdd/lib/python3.8/site-packages (from stack-data->ipython>=7.23.1->ipykernel->-r ./wm_codes/requirements.txt (line 1)) (2.2.1)\n"
     ]
    }
   ],
   "source": [
    "#create a conda env with  (in our case nft_kdd)\n",
    "#conda create -n nft_kdd python=3.8.13\n",
    "#!conda activate nft_kdd\n",
    "#!conda list\n",
    "!pip install -r ./wm_codes/requirements.txt"
   ]
  },
  {
   "cell_type": "code",
   "execution_count": null,
   "metadata": {},
   "outputs": [],
   "source": [
    "%%bash\n",
    "# Download pretrained models \n",
    "if ! [ -f ./wm_codes/normlayers/out2048_coco_orig.pth ]; then\n",
    "    echo \"Did not detect out2048_yfcc_orig.pth. Downloading fresh copy to wn_codes/normlayers...\"\n",
    "    mkdir -p ./wm_codes/normlayers\n",
    "    wget --no-check-certificate https://dl.fbaipublicfiles.com/ssl_watermarking/out2048_coco_orig.pth -P ./wm_codes/normlayers\n",
    "fi\n",
    "\n",
    "if ! [ -f ./wm_codes/models/dino_r50_plus.pth ]; then\n",
    "    echo \"Did not detect dino_r50_plus.pth. Downloading fresh copy to src/ssl_watermarking/models...\"\n",
    "    mkdir -p ./wm_codes/models\n",
    "    wget --no-check-certificate https://dl.fbaipublicfiles.com/ssl_watermarking/dino_r50_plus.pth -P ./wm_codes/models\n",
    "fi\n",
    "\n",
    "if ! [ -f ~/.cache/torch/hub/checkpoints/resnet50-0676ba61.pth ]; then\n",
    "    echo \"Did not detect resnet50.pth. Downloading fresh copy to ...~/.cache/torch/hub/checkpoints\"\n",
    "    wget --no-check-certificate https://download.pytorch.org/models/resnet50-0676ba61.pth -P ~/.cache/torch/hub/checkpoints/\n",
    "fi"
   ]
  },
  {
   "attachments": {},
   "cell_type": "markdown",
   "metadata": {},
   "source": [
    "### run experiments\n",
    "set data directory (--data_dir) accordingly"
   ]
  },
  {
   "cell_type": "code",
   "execution_count": 7,
   "metadata": {},
   "outputs": [],
   "source": [
    "## results with L=6 with ECC, L=15 with ECC and L=25 (W/O ECC)\n",
    "!python ./wm_codes/main_multibit.py --data_dir ./wm_codes/input/ --model_path ./wm_codes/models/dino_r50_plus.pth --normlayer_path ./wm_codes/normlayers/out2048_coco_orig.pth --user_path ./wm_codes/users --output_dir ./wm_codes/output/ --target_psnr_list 20 25 30 35 40 45 --num_bits_ID 6 --num_bits 12 --batch_size 1 --carrier_dir ./wm_codes/carriers/ --save_images false\n",
    "\n",
    "!python ./wm_codes/main_multibit.py --data_dir ./wm_codes/input/ --model_path ./wm_codes/models/dino_r50_plus.pth --normlayer_path ./wm_codes/normlayers/out2048_coco_orig.pth --user_path ./wm_codes/users --output_dir ./wm_codes/output/ --target_psnr_list 20 25 30 35 40 45 --num_bits_ID 15 --num_bits 30 --batch_size 1 --carrier_dir ./wm_codes/carriers/ --save_images false\n",
    "\n",
    "!python ./wm_codes/main_multibit.py --data_dir ./wm_codes/input/ --model_path ./wm_codes/models/dino_r50_plus.pth --normlayer_path ./wm_codes/normlayers/out2048_coco_orig.pth --user_path ./wm_codes/users --output_dir ./wm_codes/output/ --target_psnr_list 20 25 30 35 40 45 --num_bits_ID 25 --num_bits 50 --batch_size 1 --carrier_dir ./wm_codes/carriers/ --save_images false"
   ]
  },
  {
   "cell_type": "code",
   "execution_count": null,
   "metadata": {},
   "outputs": [],
   "source": [
    "## results with L=6 with ECC, L=15 with ECC and L=25 with ECC \n",
    "!python ./wm_codes/main_multibit.py --data_dir ./wm_codes/input/ --model_path ./wm_codes/models/dino_r50_plus.pth --normlayer_path ./wm_codes/normlayers/out2048_coco_orig.pth --user_path ./wm_codes/users --output_dir ./wm_codes/output/ --target_psnr_list 20 25 30 35 40 45 --num_bits_ID 6 --num_bits 20 --batch_size 1 --carrier_dir ./wm_codes/carriers/ --ecc true --save_images false\n",
    "\n",
    "!python ./wm_codes/main_multibit.py --data_dir ./wm_codes/input/ --model_path ./wm_codes/models/dino_r50_plus.pth --normlayer_path ./wm_codes/normlayers/out2048_coco_orig.pth --user_path ./wm_codes/users --output_dir ./wm_codes/output/ --target_psnr_list 20 25 30 35 40 45 --num_bits_ID 15 --num_bits 40 --batch_size 1 --carrier_dir ./wm_codes/carriers/ --ecc true --save_images false\n",
    "\n",
    "python ./wm_codes/main_multibit.py --data_dir ./wm_codes/input/ --model_path ./wm_codes/models/dino_r50_plus.pth --normlayer_path ./wm_codes/normlayers/out2048_coco_orig.pth --user_path ./wm_codes/users --output_dir ./wm_codes/output/ --target_psnr_list 20 25 30 35 40 45 --num_bits_ID 25 --num_bits 60 --batch_size 1 --carrier_dir ./wm_codes/carriers/ --ecc true --save_images false"
   ]
  },
  {
   "attachments": {},
   "cell_type": "markdown",
   "metadata": {},
   "source": [
    "### visualize \n",
    "After the execution all the final results are saved as csv files in the ./wm_codes/output dir. We included our execution results in ./wm_codes/output/csvs/*. To visualize the results in Figure 5, use the python code in  ./wm_codes/ploys_paper"
   ]
  },
  {
   "cell_type": "code",
   "execution_count": null,
   "metadata": {},
   "outputs": [],
   "source": [
    "!python ./wm_codes/plots_paper/Plot_ECC.py "
   ]
  },
  {
   "attachments": {},
   "cell_type": "markdown",
   "metadata": {},
   "source": [
    "The image EEC.png is saved in ./wm_codes/ploys_paper"
   ]
  },
  {
   "attachments": {},
   "cell_type": "markdown",
   "metadata": {},
   "source": [
    "## Blockchain codes\n",
    "To reproduce the results related to Section 4.2.1 Gas Consumption and 4.2.2 Batch minting: \n",
    "The smart contracts and the codes are in codes/eth_codes\n",
    "\n",
    "### Dependencies\n",
    "Python: 3.8.15 or higher\n",
    "\n",
    "web3.py: https://github.com/ethereum/web3.py\n",
    "\n",
    "hardhat: https://hardhat.org/\n",
    "\n",
    "matplotlib: https://matplotlib.org/stable/index.html#\n",
    "\n",
    "numpy: https://numpy.org/\n",
    "\n",
    "pycryptodome: https://github.com/Legrandin/pycryptodome\n",
    "\n",
    "### Running the code\n",
    "Each of the scripts in the `plots/` directory will produce the results related to the blockchain experiment found in the paper. \n",
    "\n",
    "All of these scripts require an Ethereum node. Easiest way to set this up is to\n",
    "use a local node provided by Hardhat. You can also use your own Ethereum node or \n",
    "a Ethereum Test Network, however, you will need to change the hardcoded Ethereum \n",
    "endpoint in the scripts. After installing all the dependencies, you can boot one \n",
    "up using:\n",
    "\n",
    "```\n",
    "$ npx hardhat node\n",
    "```\n",
    "The `contracts/` directory contains all the smart contracts used by our market.\n",
    "The scripts will automatically deploy these contracts when you run them, however\n",
    "you still need to compile these smart contracts. Compile them using\n",
    "\n",
    "```\n",
    "$ npx hardhat compile\n",
    "```\n",
    "\n",
    "Hardhat should automatically detect where the contracts are located and produce an \n",
    "`artifacts/` directory. Do not modify the layout of this directory, the scripts\n",
    "are expecting the default layout.\n",
    "\n",
    "`python plots/gas_method.py` plots how much gas is needed to deploy each contract\n",
    "and how much gas each smart contract method costs (Table 1. top )\n",
    "\n",
    "`python plots/registration_trade_plot.py` plots how much gas is needed for each\n",
    "stage of the market. (Table 1 bottom)\n",
    "\n",
    "`python plots/batchmint_gas_plot.py` plots how much gas is needed to mint a certain\n",
    "number of assets (Figure 3)\n",
    "\n",
    "The `plots/contract_local.py` is a wrapper over the web3.py library and used\n",
    "by every other script. "
   ]
  },
  {
   "attachments": {},
   "cell_type": "markdown",
   "metadata": {},
   "source": [
    "## demo \n",
    "This part of the repo has the code to run a POC demo for the proposed data marketplace. The readme file in the ./demo includes the instructions to run the code.    "
   ]
  },
  {
   "attachments": {},
   "cell_type": "markdown",
   "metadata": {},
   "source": [
    "## Citation: \n",
    "@inproceedings{nft_marketplace,\n",
    "  title={NFT-Based Data Marketplace with Digital Watermarking},\n",
    "  author={Ranjbar Alvar, Saeed and Akbari, Mohammad and Yue, David (Ming Xuan) and Zhang, Yong },\n",
    "  booktitle={29TH ACM SIGKDD CONFERENCE ON KNOWLEDGE DISCOVERY AND DATA MINING},\n",
    "  year={2023},\n",
    "  organization={ACM},\n",
    "}\n",
    "\n",
    "## References: \n",
    "For the watermarking codes, we borrowed code from the following repo:\n",
    "https://github.com/facebookresearch/ssl_watermarking"
   ]
  },
  {
   "cell_type": "markdown",
   "metadata": {},
   "source": []
  }
 ],
 "metadata": {
  "kernelspec": {
   "display_name": "nft_kdd",
   "language": "python",
   "name": "python3"
  },
  "language_info": {
   "codemirror_mode": {
    "name": "ipython",
    "version": 3
   },
   "file_extension": ".py",
   "mimetype": "text/x-python",
   "name": "python",
   "nbconvert_exporter": "python",
   "pygments_lexer": "ipython3",
   "version": "3.8.13"
  },
  "orig_nbformat": 4,
  "vscode": {
   "interpreter": {
    "hash": "152747758f26918433880ac6885c73add10ed234c6db101ace1aa6d91fa057a7"
   }
  }
 },
 "nbformat": 4,
 "nbformat_minor": 2
}
