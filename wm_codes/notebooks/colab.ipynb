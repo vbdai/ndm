{
 "cells": [
  {
   "cell_type": "markdown",
   "metadata": {},
   "source": [
    "Copyright (c) Meta Platforms, Inc. and affiliates.\n",
    "All rights reserved.\n",
    "\n",
    "This source code is licensed under the license found in the\n",
    "LICENSE file in the root directory of this source tree.\n",
    "\n",
    "The project is CC-BY-NC licensed, as found in the LICENSE file of the github."
   ]
  },
  {
   "cell_type": "markdown",
   "metadata": {},
   "source": [
    "# Watermarking Images in Self-Supervised Latent-Spaces\n",
    "\n",
    "[[`Webpage`](https://pierrefdz.github.io/publications/wissls/)]\n",
    "[[`arXiv`](https://arxiv.org/abs/2112.09581)] \n",
    "[[`Spaces`](https://huggingface.co/spaces/pierrefdz/ssl_watermarking)] \n",
    "[[`GitHub`](https://github.com/facebookresearch/ssl_watermarking.git)] "
   ]
  },
  {
   "cell_type": "markdown",
   "metadata": {},
   "source": [
    "Clone repo:"
   ]
  },
  {
   "cell_type": "code",
   "execution_count": null,
   "metadata": {},
   "outputs": [],
   "source": [
    "!git clone https://github.com/facebookresearch/ssl_watermarking.git"
   ]
  },
  {
   "cell_type": "markdown",
   "metadata": {},
   "source": [
    "Install requirements:"
   ]
  },
  {
   "cell_type": "code",
   "execution_count": null,
   "metadata": {},
   "outputs": [],
   "source": [
    "!pip install -r ssl_watermarking/requirements.txt"
   ]
  },
  {
   "cell_type": "code",
   "execution_count": null,
   "metadata": {},
   "outputs": [],
   "source": [
    "# Resolve issue in Augly library\n",
    "!sudo apt-get install python3-magic"
   ]
  },
  {
   "cell_type": "markdown",
   "metadata": {},
   "source": [
    "(You may need to restart runtime after installing requirements, then start at the following cell.)"
   ]
  },
  {
   "cell_type": "code",
   "execution_count": null,
   "metadata": {},
   "outputs": [],
   "source": [
    "cd ssl_watermarking"
   ]
  },
  {
   "cell_type": "markdown",
   "metadata": {},
   "source": [
    "Download models and normalization layers:"
   ]
  },
  {
   "cell_type": "code",
   "execution_count": null,
   "metadata": {},
   "outputs": [],
   "source": [
    "!mkdir models\n",
    "!mkdir normlayers\n",
    "!wget https://dl.fbaipublicfiles.com/ssl_watermarking/dino_r50_plus.pth -P models/\n",
    "!wget https://dl.fbaipublicfiles.com/ssl_watermarking/out2048_yfcc_orig.pth -P normlayers/\n",
    "!wget https://dl.fbaipublicfiles.com/ssl_watermarking/out2048_yfcc_resized.pth -P normlayers/"
   ]
  },
  {
   "cell_type": "markdown",
   "metadata": {},
   "source": [
    "### Remarks\n",
    "\n",
    "- We strongly recommend to use a GPU (the code should run with a CPU, but a lot slower). \n",
    "- You can put your own images in the `input/0/` folder.\n",
    "- For more documentation, see the [GitHub repository](https://github.com/facebookresearch/ssl_watermarking)."
   ]
  },
  {
   "cell_type": "markdown",
   "metadata": {},
   "source": [
    "## 0-bit watermarking"
   ]
  },
  {
   "cell_type": "markdown",
   "metadata": {},
   "source": [
    "Run:"
   ]
  },
  {
   "cell_type": "code",
   "execution_count": null,
   "metadata": {},
   "outputs": [],
   "source": [
    "#@title Run 0-bit\n",
    "PSNR = 40 #@param {type:\"slider\", min:0, max:100, step:1}\n",
    "LOG_FPR  = -6 #@param {type:\"slider\", min:-12, max:0, step:0.1}\n",
    "NORMLAYER_PATH = 'normlayers/out2048_yfcc_resized.pth' #@param {type:\"string\"}\n",
    "EVAL = True #@param {type:\"boolean\"}\n",
    "SAVE_IMAGES = True #@param {type:\"boolean\"}\n",
    "\n",
    "FPR = 10**(LOG_FPR)\n",
    "\n",
    "!python main_0bit.py --data_dir input --model_path models/dino_r50_plus.pth --normlayer_path {NORMLAYER_PATH} --target_psnr {PSNR} --target_fpr {FPR} \\\n",
    "    --evaluate {EVAL} --save_images {SAVE_IMAGES}"
   ]
  },
  {
   "cell_type": "markdown",
   "metadata": {},
   "source": [
    "Decode:"
   ]
  },
  {
   "cell_type": "code",
   "execution_count": null,
   "metadata": {},
   "outputs": [],
   "source": [
    "#@title Decode 0-bit\n",
    "LOG_FPR  = -6 #@param {type:\"slider\", min:-12, max:0, step:0.1}\n",
    "NORMLAYER_PATH = 'normlayers/out2048_yfcc_resized.pth' #@param {type:\"string\"}\n",
    "DATA_DIR = 'output/imgs' #@param {type:\"string\"}\n",
    "\n",
    "FPR = 10**(LOG_FPR)\n",
    "\n",
    "!python main_0bit.py --decode_only True --data_dir {DATA_DIR} --model_path models/dino_r50_plus.pth --normlayer_path {NORMLAYER_PATH} --target_fpr {FPR}"
   ]
  },
  {
   "cell_type": "markdown",
   "metadata": {},
   "source": [
    "## Multi-bit watermarking"
   ]
  },
  {
   "cell_type": "code",
   "execution_count": null,
   "metadata": {},
   "outputs": [],
   "source": [
    "#@title Run multi-bit\n",
    "PSNR = 40 #@param {type:\"slider\", min:0, max:100, step:1}\n",
    "NUM_BITS  = 30 #@param {type:\"slider\", min:1, max:2048, step:1}\n",
    "NORMLAYER_PATH = 'normlayers/out2048_yfcc_resized.pth' #@param {type:\"string\"}\n",
    "EVAL = True #@param {type:\"boolean\"}\n",
    "SAVE_IMAGES = True #@param {type:\"boolean\"}\n",
    "\n",
    "!python main_multibit.py --data_dir input --model_path models/dino_r50_plus.pth --normlayer_path {NORMLAYER_PATH} --target_psnr {PSNR} --num_bits {NUM_BITS} \\\n",
    "    --evaluate {EVAL} --save_images {SAVE_IMAGES}"
   ]
  },
  {
   "cell_type": "markdown",
   "metadata": {},
   "source": [
    "Decode:"
   ]
  },
  {
   "cell_type": "code",
   "execution_count": null,
   "metadata": {},
   "outputs": [],
   "source": [
    "#@title Decode multi-bit\n",
    "NUM_BITS  = 30 #@param {type:\"slider\", min:1, max:2048, step:1}\n",
    "NORMLAYER_PATH = 'normlayers/out2048_yfcc_resized.pth' #@param {type:\"string\"}\n",
    "DATA_DIR = 'output/imgs' #@param {type:\"string\"}\n",
    "\n",
    "!python main_multibit.py --decode_only True --data_dir {DATA_DIR} --model_path models/dino_r50_plus.pth --normlayer_path {NORMLAYER_PATH} --num_bits {NUM_BITS}"
   ]
  },
  {
   "cell_type": "markdown",
   "metadata": {},
   "source": [
    "### *With your own messages*"
   ]
  },
  {
   "cell_type": "markdown",
   "metadata": {},
   "source": [
    "Create `msgs.txt` (feel free to change messages):"
   ]
  },
  {
   "cell_type": "code",
   "execution_count": null,
   "metadata": {},
   "outputs": [],
   "source": [
    "!mkdir messages\n",
    "!wget https://dl.fbaipublicfiles.com/ssl_watermarking/msgs_text.txt -P messages \n",
    "!wget https://dl.fbaipublicfiles.com/ssl_watermarking/msgs_bits.txt -P messages"
   ]
  },
  {
   "cell_type": "markdown",
   "metadata": {},
   "source": [
    "Run:"
   ]
  },
  {
   "cell_type": "code",
   "execution_count": null,
   "metadata": {},
   "outputs": [],
   "source": [
    "#@title Run multi-bit\n",
    "PSNR = 40 #@param {type:\"slider\", min:0, max:100, step:1}\n",
    "MSG_PATH = 'messages/msgs_text.txt' #@param {type:\"string\"}\n",
    "MSG_TYPE = 'text' #@param {type:\"radio\", values:[\"text\", \"bits\"]}\n",
    "NUM_BITS  = 30 #@param {type:\"slider\", min:1, max:2048, step:1}\n",
    "NORMLAYER_PATH = 'normlayers/out2048_yfcc_resized.pth' #@param {type:\"string\"}\n",
    "EVAL = True #@param {type:\"boolean\"}\n",
    "SAVE_IMAGES = True #@param {type:\"boolean\"}\n",
    "\n",
    "!python main_multibit.py --data_dir input --model_path models/dino_r50_plus.pth --normlayer_path {NORMLAYER_PATH} --target_psnr {PSNR} \\\n",
    "        --msg_path {MSG_PATH} --msg_type {MSG_TYPE}  --num_bits {NUM_BITS} \\\n",
    "        --evaluate {EVAL} --save_images {SAVE_IMAGES}\n"
   ]
  },
  {
   "cell_type": "markdown",
   "metadata": {},
   "source": [
    "Decode:"
   ]
  },
  {
   "cell_type": "code",
   "execution_count": null,
   "metadata": {},
   "outputs": [],
   "source": [
    "#@title Decode multi-bit\n",
    "MSG_TYPE = 'text' #@param {type:\"radio\", values:[\"text\", \"bits\"]}\n",
    "NUM_BITS  = 30 #@param {type:\"slider\", min:1, max:2048, step:1}\n",
    "NORMLAYER_PATH = 'normlayers/out2048_yfcc_resized.pth' #@param {type:\"string\"}\n",
    "\n",
    "!python main_multibit.py --decode_only True --data_dir output/imgs --model_path models/dino_r50_plus.pth --normlayer_path {NORMLAYER_PATH} \\\n",
    "    --msg_type {MSG_TYPE}  --num_bits {NUM_BITS} \\"
   ]
  }
 ],
 "metadata": {
  "language_info": {
   "name": "python"
  },
  "orig_nbformat": 4
 },
 "nbformat": 4,
 "nbformat_minor": 2
}
